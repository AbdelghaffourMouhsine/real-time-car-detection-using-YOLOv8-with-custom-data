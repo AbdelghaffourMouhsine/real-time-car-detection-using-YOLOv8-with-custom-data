{
 "cells": [
  {
   "cell_type": "raw",
   "id": "9fa83a2c",
   "metadata": {},
   "source": [
    "1-creation d'un nouveau environnement avec anaconda prompt\n",
    "    -> python -m venv yolo_custom_venv"
   ]
  },
  {
   "cell_type": "raw",
   "id": "d13c12c8",
   "metadata": {},
   "source": [
    "2-activation de l'environnement\n",
    "    -> cd yolo_custom_venv/Scripts\n",
    "    -> activate"
   ]
  },
  {
   "cell_type": "raw",
   "id": "db13837c",
   "metadata": {},
   "source": [
    "3-instalation de ipykernel pour creer un kernel\n",
    "    -> pip install ipykernel"
   ]
  },
  {
   "cell_type": "raw",
   "id": "078162db",
   "metadata": {},
   "source": [
    "4-creation d'un nouveau kernel yolo_custom_venv\n",
    "    -> python -m ipykernel install --user --name=yolo_custom_venv"
   ]
  },
  {
   "cell_type": "raw",
   "id": "852b884f",
   "metadata": {},
   "source": [
    "5-instalation de simple_image_download pour telecharger des images via google\n",
    "    -> pip install simple_image_download==0.4"
   ]
  },
  {
   "cell_type": "raw",
   "id": "7dd649e0",
   "metadata": {},
   "source": [
    "6-desactivation de l'environnement\n",
    "    -> deactivate"
   ]
  },
  {
   "cell_type": "raw",
   "id": "8d299ed5",
   "metadata": {},
   "source": [
    "7-suppression du kernel \n",
    "    -> jupyter kernelspec uninstall yolo_custom_venv"
   ]
  },
  {
   "cell_type": "code",
   "execution_count": null,
   "id": "944d2032",
   "metadata": {},
   "outputs": [],
   "source": []
  }
 ],
 "metadata": {
  "kernelspec": {
   "display_name": "Python 3 (ipykernel)",
   "language": "python",
   "name": "python3"
  },
  "language_info": {
   "codemirror_mode": {
    "name": "ipython",
    "version": 3
   },
   "file_extension": ".py",
   "mimetype": "text/x-python",
   "name": "python",
   "nbconvert_exporter": "python",
   "pygments_lexer": "ipython3",
   "version": "3.9.12"
  },
  "varInspector": {
   "cols": {
    "lenName": 16,
    "lenType": 16,
    "lenVar": 40
   },
   "kernels_config": {
    "python": {
     "delete_cmd_postfix": "",
     "delete_cmd_prefix": "del ",
     "library": "var_list.py",
     "varRefreshCmd": "print(var_dic_list())"
    },
    "r": {
     "delete_cmd_postfix": ") ",
     "delete_cmd_prefix": "rm(",
     "library": "var_list.r",
     "varRefreshCmd": "cat(var_dic_list()) "
    }
   },
   "types_to_exclude": [
    "module",
    "function",
    "builtin_function_or_method",
    "instance",
    "_Feature"
   ],
   "window_display": false
  }
 },
 "nbformat": 4,
 "nbformat_minor": 5
}
