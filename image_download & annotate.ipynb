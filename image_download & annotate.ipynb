{
 "cells": [
  {
   "cell_type": "code",
   "execution_count": null,
   "id": "4bdae6e1",
   "metadata": {},
   "outputs": [],
   "source": [
    "!pip install simple_image_download==0.4"
   ]
  },
  {
   "cell_type": "code",
   "execution_count": 1,
   "id": "63d21a34",
   "metadata": {},
   "outputs": [],
   "source": [
    "# in kernel yolo_custom_venv\n",
    "from simple_image_download import simple_image_download as simp"
   ]
  },
  {
   "cell_type": "code",
   "execution_count": 4,
   "id": "6f036955",
   "metadata": {},
   "outputs": [],
   "source": [
    "response = simp.simple_image_download\n",
    "keywords = [\"traffic car\",\"car\"]"
   ]
  },
  {
   "cell_type": "code",
   "execution_count": 5,
   "id": "2a7eca3c",
   "metadata": {},
   "outputs": [
    {
     "name": "stderr",
     "output_type": "stream",
     "text": [
      "[========================================================================] 100%\n",
      "[========================================================================] 100%\n"
     ]
    }
   ],
   "source": [
    "for kw in keywords:\n",
    "    response().download(kw , 50)"
   ]
  },
  {
   "cell_type": "code",
   "execution_count": 6,
   "id": "8828f668",
   "metadata": {
    "scrolled": true
   },
   "outputs": [
    {
     "name": "stdout",
     "output_type": "stream",
     "text": [
      "Requirement already satisfied: labelImg in c:\\programdata\\anaconda3\\lib\\site-packages (1.8.6)\n",
      "Requirement already satisfied: pyqt5 in c:\\programdata\\anaconda3\\lib\\site-packages (from labelImg) (5.15.9)\n",
      "Requirement already satisfied: lxml in c:\\programdata\\anaconda3\\lib\\site-packages (from labelImg) (4.8.0)\n",
      "Requirement already satisfied: PyQt5-sip<13,>=12.11 in c:\\programdata\\anaconda3\\lib\\site-packages (from pyqt5->labelImg) (12.12.1)\n",
      "Requirement already satisfied: PyQt5-Qt5>=5.15.2 in c:\\programdata\\anaconda3\\lib\\site-packages (from pyqt5->labelImg) (5.15.2)\n"
     ]
    }
   ],
   "source": [
    "# instalation de labelImg pour annoter les images\n",
    "!pip install labelImg"
   ]
  },
  {
   "cell_type": "code",
   "execution_count": null,
   "id": "ee2c4111",
   "metadata": {},
   "outputs": [],
   "source": []
  },
  {
   "cell_type": "code",
   "execution_count": 1,
   "id": "4db785ec",
   "metadata": {},
   "outputs": [
    {
     "name": "stdout",
     "output_type": "stream",
     "text": [
      "Image:C:\\Users\\Hp\\Desktop\\yolo_custom\\images\\car_3.png -> Annotation:C:/Users/Hp/Desktop/yolo_custom/labels\\car_3.txt"
     ]
    },
    {
     "name": "stderr",
     "output_type": "stream",
     "text": [
      "qt.gui.icc: fromIccProfile: failed minimal tag size sanity\n",
      "qt.gui.icc: fromIccProfile: failed minimal tag size sanity\n",
      "libpng warning: iCCP: profile 'Embedded Profile': 0h: PCS illuminant is not D50\n",
      "qt.gui.icc: fromIccProfile: failed minimal tag size sanity\n",
      "qt.gui.icc: fromIccProfile: failed minimal tag size sanity\n",
      "qt.gui.icc: fromIccProfile: failed minimal tag size sanity\n",
      "qt.gui.icc: fromIccProfile: failed minimal tag size sanity\n",
      "qt.gui.icc: fromIccProfile: failed minimal tag size sanity\n",
      "qt.gui.icc: Unsupported ICC profile class 73636e72\n",
      "qt.gui.icc: fromIccProfile: failed minimal tag size sanity\n",
      "qt.gui.icc: fromIccProfile: failed minimal tag size sanity\n",
      "qt.gui.icc: fromIccProfile: failed minimal tag size sanity\n",
      "qt.gui.icc: fromIccProfile: failed minimal tag size sanity\n",
      "qt.gui.icc: fromIccProfile: failed minimal tag size sanity\n",
      "qt.gui.icc: fromIccProfile: failed minimal tag size sanity\n",
      "qt.gui.icc: fromIccProfile: failed minimal tag size sanity\n",
      "qt.gui.icc: fromIccProfile: failed minimal tag size sanity\n",
      "qt.gui.icc: fromIccProfile: failed minimal tag size sanity\n",
      "qt.gui.icc: fromIccProfile: failed minimal tag size sanity\n",
      "qt.gui.icc: fromIccProfile: failed minimal tag size sanity\n",
      "qt.gui.icc: fromIccProfile: failed minimal tag size sanity\n",
      "qt.gui.icc: fromIccProfile: failed minimal tag size sanity\n",
      "qt.gui.icc: fromIccProfile: failed minimal tag size sanity\n"
     ]
    },
    {
     "name": "stdout",
     "output_type": "stream",
     "text": [
      "\n",
      "Image:C:\\Users\\Hp\\Desktop\\yolo_custom\\images\\car_4.jpeg -> Annotation:C:/Users/Hp/Desktop/yolo_custom/labels\\car_4.txt\n",
      "Image:C:\\Users\\Hp\\Desktop\\yolo_custom\\images\\car_5.jpeg -> Annotation:C:/Users/Hp/Desktop/yolo_custom/labels\\car_5.txt\n",
      "Image:C:\\Users\\Hp\\Desktop\\yolo_custom\\images\\car_6.jpeg -> Annotation:C:/Users/Hp/Desktop/yolo_custom/labels\\car_6.txt\n",
      "Image:C:\\Users\\Hp\\Desktop\\yolo_custom\\images\\car_7.png -> Annotation:C:/Users/Hp/Desktop/yolo_custom/labels\\car_7.txt\n",
      "Image:C:\\Users\\Hp\\Desktop\\yolo_custom\\images\\car_8.jpeg -> Annotation:C:/Users/Hp/Desktop/yolo_custom/labels\\car_8.txt\n",
      "Image:C:\\Users\\Hp\\Desktop\\yolo_custom\\images\\car_9.jpeg -> Annotation:C:/Users/Hp/Desktop/yolo_custom/labels\\car_9.txt\n",
      "Cancel creation.\n",
      "Image:C:\\Users\\Hp\\Desktop\\yolo_custom\\images\\car_10.png -> Annotation:C:/Users/Hp/Desktop/yolo_custom/labels\\car_10.txt\n",
      "Image:C:\\Users\\Hp\\Desktop\\yolo_custom\\images\\car_11.jpeg -> Annotation:C:/Users/Hp/Desktop/yolo_custom/labels\\car_11.txt\n",
      "Image:C:\\Users\\Hp\\Desktop\\yolo_custom\\images\\car_12.jpeg -> Annotation:C:/Users/Hp/Desktop/yolo_custom/labels\\car_12.txt\n",
      "Image:C:\\Users\\Hp\\Desktop\\yolo_custom\\images\\car_13.png -> Annotation:C:/Users/Hp/Desktop/yolo_custom/labels\\car_13.txt\n",
      "Image:C:\\Users\\Hp\\Desktop\\yolo_custom\\images\\car_14.jpeg -> Annotation:C:/Users/Hp/Desktop/yolo_custom/labels\\car_14.txt\n",
      "Image:C:\\Users\\Hp\\Desktop\\yolo_custom\\images\\car_15.jpeg -> Annotation:C:/Users/Hp/Desktop/yolo_custom/labels\\car_15.txt\n",
      "Image:C:\\Users\\Hp\\Desktop\\yolo_custom\\images\\car_16.jpeg -> Annotation:C:/Users/Hp/Desktop/yolo_custom/labels\\car_16.txt\n",
      "Image:C:\\Users\\Hp\\Desktop\\yolo_custom\\images\\car_17.jpeg -> Annotation:C:/Users/Hp/Desktop/yolo_custom/labels\\car_17.txt\n",
      "Image:C:\\Users\\Hp\\Desktop\\yolo_custom\\images\\car_18.jpeg -> Annotation:C:/Users/Hp/Desktop/yolo_custom/labels\\car_18.txt\n",
      "Image:C:\\Users\\Hp\\Desktop\\yolo_custom\\images\\car_19.jpeg -> Annotation:C:/Users/Hp/Desktop/yolo_custom/labels\\car_19.txt\n",
      "Image:C:\\Users\\Hp\\Desktop\\yolo_custom\\images\\car_20.png -> Annotation:C:/Users/Hp/Desktop/yolo_custom/labels\\car_20.txt\n",
      "Image:C:\\Users\\Hp\\Desktop\\yolo_custom\\images\\car_21.jpeg -> Annotation:C:/Users/Hp/Desktop/yolo_custom/labels\\car_21.txt\n",
      "Image:C:\\Users\\Hp\\Desktop\\yolo_custom\\images\\car_22.jpeg -> Annotation:C:/Users/Hp/Desktop/yolo_custom/labels\\car_22.txt\n",
      "Image:C:\\Users\\Hp\\Desktop\\yolo_custom\\images\\car_23.jpeg -> Annotation:C:/Users/Hp/Desktop/yolo_custom/labels\\car_23.txt\n",
      "Image:C:\\Users\\Hp\\Desktop\\yolo_custom\\images\\car_24.jpeg -> Annotation:C:/Users/Hp/Desktop/yolo_custom/labels\\car_24.txt\n",
      "Image:C:\\Users\\Hp\\Desktop\\yolo_custom\\images\\car_25.jpeg -> Annotation:C:/Users/Hp/Desktop/yolo_custom/labels\\car_25.txt\n",
      "Image:C:\\Users\\Hp\\Desktop\\yolo_custom\\images\\car_26.jpeg -> Annotation:C:/Users/Hp/Desktop/yolo_custom/labels\\car_26.txt\n",
      "Image:C:\\Users\\Hp\\Desktop\\yolo_custom\\images\\car_27.jpeg -> Annotation:C:/Users/Hp/Desktop/yolo_custom/labels\\car_27.txt\n",
      "Image:C:\\Users\\Hp\\Desktop\\yolo_custom\\images\\car_28.jpeg -> Annotation:C:/Users/Hp/Desktop/yolo_custom/labels\\car_28.txt\n",
      "Image:C:\\Users\\Hp\\Desktop\\yolo_custom\\images\\car_29.jpeg -> Annotation:C:/Users/Hp/Desktop/yolo_custom/labels\\car_29.txt\n",
      "Image:C:\\Users\\Hp\\Desktop\\yolo_custom\\images\\car_30.jpeg -> Annotation:C:/Users/Hp/Desktop/yolo_custom/labels\\car_30.txt\n",
      "Image:C:\\Users\\Hp\\Desktop\\yolo_custom\\images\\car_31.jpeg -> Annotation:C:/Users/Hp/Desktop/yolo_custom/labels\\car_31.txt\n",
      "Image:C:\\Users\\Hp\\Desktop\\yolo_custom\\images\\car_32.jpeg -> Annotation:C:/Users/Hp/Desktop/yolo_custom/labels\\car_32.txt\n",
      "Image:C:\\Users\\Hp\\Desktop\\yolo_custom\\images\\car_33.png -> Annotation:C:/Users/Hp/Desktop/yolo_custom/labels\\car_33.txt\n",
      "Image:C:\\Users\\Hp\\Desktop\\yolo_custom\\images\\car_34.jpeg -> Annotation:C:/Users/Hp/Desktop/yolo_custom/labels\\car_34.txt\n",
      "Image:C:\\Users\\Hp\\Desktop\\yolo_custom\\images\\car_35.jpeg -> Annotation:C:/Users/Hp/Desktop/yolo_custom/labels\\car_35.txt\n",
      "Image:C:\\Users\\Hp\\Desktop\\yolo_custom\\images\\car_36.jpeg -> Annotation:C:/Users/Hp/Desktop/yolo_custom/labels\\car_36.txt\n",
      "Image:C:\\Users\\Hp\\Desktop\\yolo_custom\\images\\car_37.jpeg -> Annotation:C:/Users/Hp/Desktop/yolo_custom/labels\\car_37.txt\n",
      "Image:C:\\Users\\Hp\\Desktop\\yolo_custom\\images\\car_38.jpeg -> Annotation:C:/Users/Hp/Desktop/yolo_custom/labels\\car_38.txt\n",
      "Image:C:\\Users\\Hp\\Desktop\\yolo_custom\\images\\car_39.jpeg -> Annotation:C:/Users/Hp/Desktop/yolo_custom/labels\\car_39.txt\n",
      "Cancel creation.\n",
      "Image:C:\\Users\\Hp\\Desktop\\yolo_custom\\images\\car_40.jpeg -> Annotation:C:/Users/Hp/Desktop/yolo_custom/labels\\car_40.txt\n",
      "Image:C:\\Users\\Hp\\Desktop\\yolo_custom\\images\\car_41.jpeg -> Annotation:C:/Users/Hp/Desktop/yolo_custom/labels\\car_41.txt\n",
      "Image:C:\\Users\\Hp\\Desktop\\yolo_custom\\images\\car_42.jpeg -> Annotation:C:/Users/Hp/Desktop/yolo_custom/labels\\car_42.txt\n",
      "Image:C:\\Users\\Hp\\Desktop\\yolo_custom\\images\\car_43.jpeg -> Annotation:C:/Users/Hp/Desktop/yolo_custom/labels\\car_43.txt\n",
      "Image:C:\\Users\\Hp\\Desktop\\yolo_custom\\images\\car_44.jpeg -> Annotation:C:/Users/Hp/Desktop/yolo_custom/labels\\car_44.txt\n",
      "Image:C:\\Users\\Hp\\Desktop\\yolo_custom\\images\\car_45.jpeg -> Annotation:C:/Users/Hp/Desktop/yolo_custom/labels\\car_45.txt\n",
      "Image:C:\\Users\\Hp\\Desktop\\yolo_custom\\images\\car_46.jpeg -> Annotation:C:/Users/Hp/Desktop/yolo_custom/labels\\car_46.txt\n",
      "Image:C:\\Users\\Hp\\Desktop\\yolo_custom\\images\\car_48.jpeg -> Annotation:C:/Users/Hp/Desktop/yolo_custom/labels\\car_48.txt\n",
      "Image:C:\\Users\\Hp\\Desktop\\yolo_custom\\images\\car_48.jpeg -> Annotation:C:/Users/Hp/Desktop/yolo_custom/labels\\car_48.txt\n",
      "Image:C:\\Users\\Hp\\Desktop\\yolo_custom\\images\\car_49.jpeg -> Annotation:C:/Users/Hp/Desktop/yolo_custom/labels\\car_49.txt\n",
      "Image:C:\\Users\\Hp\\Desktop\\yolo_custom\\images\\car_50.jpeg -> Annotation:C:/Users/Hp/Desktop/yolo_custom/labels\\car_50.txt\n",
      "Cancel creation.\n",
      "Image:C:\\Users\\Hp\\Desktop\\yolo_custom\\images\\traffic car_3.jpeg -> Annotation:C:/Users/Hp/Desktop/yolo_custom/labels\\traffic car_3.json\n",
      "Image:C:\\Users\\Hp\\Desktop\\yolo_custom\\images\\traffic car_4.jpeg -> Annotation:C:/Users/Hp/Desktop/yolo_custom/labels\\traffic car_4.json\n",
      "Cancel creation.\n",
      "Image:C:\\Users\\Hp\\Desktop\\yolo_custom\\images\\traffic car_6.jpeg -> Annotation:C:/Users/Hp/Desktop/yolo_custom/labels\\traffic car_6.json\n",
      "Image:C:\\Users\\Hp\\Desktop\\yolo_custom\\images\\traffic car_7.jpeg -> Annotation:C:/Users/Hp/Desktop/yolo_custom/labels\\traffic car_7.json\n",
      "Image:C:\\Users\\Hp\\Desktop\\yolo_custom\\images\\traffic car_8.jpeg -> Annotation:C:/Users/Hp/Desktop/yolo_custom/labels\\traffic car_8.txt\n",
      "[('car', [(658, 3), (1195, 3), (1195, 286), (658, 286)], None, None, False), ('car', [(645, 202), (1162, 202), (1162, 417), (645, 417)], None, None, False), ('car', [(630, 355), (1128, 355), (1128, 569), (630, 569)], None, None, False), ('car', [(594, 491), (1104, 491), (1104, 720), (594, 720)], None, None, False)]\n",
      "Cancel creation.\n",
      "Image:C:\\Users\\Hp\\Desktop\\yolo_custom\\images\\traffic car_3.jpeg -> Annotation:C:/Users/Hp/Desktop/yolo_custom/labels\\traffic car_3.txt\n",
      "Image:C:\\Users\\Hp\\Desktop\\yolo_custom\\images\\traffic car_4.jpeg -> Annotation:C:/Users/Hp/Desktop/yolo_custom/labels\\traffic car_4.txt\n",
      "Image:C:\\Users\\Hp\\Desktop\\yolo_custom\\images\\traffic car_4.jpeg -> Annotation:C:/Users/Hp/Desktop/yolo_custom/labels\\traffic car_4.txt\n",
      "Image:C:\\Users\\Hp\\Desktop\\yolo_custom\\images\\traffic car_4.jpeg -> Annotation:C:/Users/Hp/Desktop/yolo_custom/labels\\traffic car_4.txt\n",
      "Image:C:\\Users\\Hp\\Desktop\\yolo_custom\\images\\traffic car_4.jpeg -> Annotation:C:/Users/Hp/Desktop/yolo_custom/labels\\traffic car_4.txt\n",
      "Image:C:\\Users\\Hp\\Desktop\\yolo_custom\\images\\traffic car_4.jpeg -> Annotation:C:/Users/Hp/Desktop/yolo_custom/labels\\traffic car_4.txt\n",
      "Cancel creation.\n",
      "Cancel creation.\n",
      "Image:C:\\Users\\Hp\\Desktop\\yolo_custom\\images\\traffic car_6.jpeg -> Annotation:C:/Users/Hp/Desktop/yolo_custom/labels\\traffic car_6.txt\n",
      "Image:C:\\Users\\Hp\\Desktop\\yolo_custom\\images\\traffic car_7.jpeg -> Annotation:C:/Users/Hp/Desktop/yolo_custom/labels\\traffic car_7.txt\n",
      "Image:C:\\Users\\Hp\\Desktop\\yolo_custom\\images\\traffic car_8.jpeg -> Annotation:C:/Users/Hp/Desktop/yolo_custom/labels\\traffic car_8.json\n",
      "Image:C:\\Users\\Hp\\Desktop\\yolo_custom\\images\\traffic car_8.jpeg -> Annotation:C:/Users/Hp/Desktop/yolo_custom/labels\\traffic car_8.txt\n",
      "[('car', [(107, 448), (201, 448), (201, 563), (107, 563)], None, None, False)]\n",
      "Image:C:\\Users\\Hp\\Desktop\\yolo_custom\\images\\traffic car_8.jpeg -> Annotation:C:/Users/Hp/Desktop/yolo_custom/labels\\traffic car_8.txt\n",
      "Image:C:\\Users\\Hp\\Desktop\\yolo_custom\\images\\traffic car_10.jpeg -> Annotation:C:/Users/Hp/Desktop/yolo_custom/labels\\traffic car_10.txt\n",
      "Image:C:\\Users\\Hp\\Desktop\\yolo_custom\\images\\traffic car_11.jpeg -> Annotation:C:/Users/Hp/Desktop/yolo_custom/labels\\traffic car_11.txt\n",
      "Image:C:\\Users\\Hp\\Desktop\\yolo_custom\\images\\traffic car_13.jpeg -> Annotation:C:/Users/Hp/Desktop/yolo_custom/labels\\traffic car_13.txt\n",
      "Image:C:\\Users\\Hp\\Desktop\\yolo_custom\\images\\traffic car_15.png -> Annotation:C:/Users/Hp/Desktop/yolo_custom/labels\\traffic car_15.txt\n",
      "Image:C:\\Users\\Hp\\Desktop\\yolo_custom\\images\\traffic car_16.jpeg -> Annotation:C:/Users/Hp/Desktop/yolo_custom/labels\\traffic car_16.txt\n",
      "Image:C:\\Users\\Hp\\Desktop\\yolo_custom\\images\\traffic car_17.jpeg -> Annotation:C:/Users/Hp/Desktop/yolo_custom/labels\\traffic car_17.txt\n",
      "Image:C:\\Users\\Hp\\Desktop\\yolo_custom\\images\\traffic car_17.jpeg -> Annotation:C:/Users/Hp/Desktop/yolo_custom/labels\\traffic car_17.txt\n",
      "Image:C:\\Users\\Hp\\Desktop\\yolo_custom\\images\\traffic car_17.jpeg -> Annotation:C:/Users/Hp/Desktop/yolo_custom/labels\\traffic car_17.txt\n",
      "Cancel creation.\n",
      "Cancel creation.\n",
      "Image:C:\\Users\\Hp\\Desktop\\yolo_custom\\images\\traffic car_18.jpeg -> Annotation:C:/Users/Hp/Desktop/yolo_custom/labels\\traffic car_18.txt\n",
      "Cancel creation.\n",
      "Image:C:\\Users\\Hp\\Desktop\\yolo_custom\\images\\traffic car_21.jpeg -> Annotation:C:/Users/Hp/Desktop/yolo_custom/labels\\traffic car_21.txt\n",
      "Cancel creation.\n",
      "Image:C:\\Users\\Hp\\Desktop\\yolo_custom\\images\\traffic car_22.jpeg -> Annotation:C:/Users/Hp/Desktop/yolo_custom/labels\\traffic car_22.txt\n",
      "Cancel creation.\n",
      "Image:C:\\Users\\Hp\\Desktop\\yolo_custom\\images\\traffic car_23.jpeg -> Annotation:C:/Users/Hp/Desktop/yolo_custom/labels\\traffic car_23.txt\n",
      "Image:C:\\Users\\Hp\\Desktop\\yolo_custom\\images\\traffic car_23.jpeg -> Annotation:C:/Users/Hp/Desktop/yolo_custom/labels\\traffic car_23.txt\n",
      "Cancel creation.\n",
      "Image:C:\\Users\\Hp\\Desktop\\yolo_custom\\images\\traffic car_23.jpeg -> Annotation:C:/Users/Hp/Desktop/yolo_custom/labels\\traffic car_23.txt\n",
      "Cancel creation.\n",
      "Image:C:\\Users\\Hp\\Desktop\\yolo_custom\\images\\traffic car_24.jpeg -> Annotation:C:/Users/Hp/Desktop/yolo_custom/labels\\traffic car_24.txt\n",
      "Image:C:\\Users\\Hp\\Desktop\\yolo_custom\\images\\traffic car_25.jpeg -> Annotation:C:/Users/Hp/Desktop/yolo_custom/labels\\traffic car_25.txt\n",
      "Image:C:\\Users\\Hp\\Desktop\\yolo_custom\\images\\traffic car_26.jpeg -> Annotation:C:/Users/Hp/Desktop/yolo_custom/labels\\traffic car_26.txt\n",
      "Image:C:\\Users\\Hp\\Desktop\\yolo_custom\\images\\traffic car_27.jpeg -> Annotation:C:/Users/Hp/Desktop/yolo_custom/labels\\traffic car_27.txt\n",
      "Cancel creation.\n",
      "Image:C:\\Users\\Hp\\Desktop\\yolo_custom\\images\\traffic car_28.jpeg -> Annotation:C:/Users/Hp/Desktop/yolo_custom/labels\\traffic car_28.txt\n",
      "Cancel creation.\n",
      "Image:C:\\Users\\Hp\\Desktop\\yolo_custom\\images\\traffic car_30.jpeg -> Annotation:C:/Users/Hp/Desktop/yolo_custom/labels\\traffic car_30.txt\n",
      "Image:C:\\Users\\Hp\\Desktop\\yolo_custom\\images\\traffic car_31.jpeg -> Annotation:C:/Users/Hp/Desktop/yolo_custom/labels\\traffic car_31.txt\n",
      "Image:C:\\Users\\Hp\\Desktop\\yolo_custom\\images\\traffic car_32.jpeg -> Annotation:C:/Users/Hp/Desktop/yolo_custom/labels\\traffic car_32.txt\n",
      "Image:C:\\Users\\Hp\\Desktop\\yolo_custom\\images\\traffic car_33.jpeg -> Annotation:C:/Users/Hp/Desktop/yolo_custom/labels\\traffic car_33.txt\n",
      "Image:C:\\Users\\Hp\\Desktop\\yolo_custom\\images\\traffic car_34.jpeg -> Annotation:C:/Users/Hp/Desktop/yolo_custom/labels\\traffic car_34.txt\n",
      "Image:C:\\Users\\Hp\\Desktop\\yolo_custom\\images\\traffic car_35.png -> Annotation:C:/Users/Hp/Desktop/yolo_custom/labels\\traffic car_35.txt\n",
      "Image:C:\\Users\\Hp\\Desktop\\yolo_custom\\images\\traffic car_36.jpeg -> Annotation:C:/Users/Hp/Desktop/yolo_custom/labels\\traffic car_36.txt\n",
      "Image:C:\\Users\\Hp\\Desktop\\yolo_custom\\images\\traffic car_37.jpeg -> Annotation:C:/Users/Hp/Desktop/yolo_custom/labels\\traffic car_37.txt\n",
      "Image:C:\\Users\\Hp\\Desktop\\yolo_custom\\images\\traffic car_38.jpeg -> Annotation:C:/Users/Hp/Desktop/yolo_custom/labels\\traffic car_38.txt\n",
      "Image:C:\\Users\\Hp\\Desktop\\yolo_custom\\images\\traffic car_39.jpeg -> Annotation:C:/Users/Hp/Desktop/yolo_custom/labels\\traffic car_39.txt\n",
      "Image:C:\\Users\\Hp\\Desktop\\yolo_custom\\images\\traffic car_40.jpeg -> Annotation:C:/Users/Hp/Desktop/yolo_custom/labels\\traffic car_40.txt\n",
      "Image:C:\\Users\\Hp\\Desktop\\yolo_custom\\images\\traffic car_41.jpeg -> Annotation:C:/Users/Hp/Desktop/yolo_custom/labels\\traffic car_41.txt\n",
      "Cancel creation.\n",
      "Image:C:\\Users\\Hp\\Desktop\\yolo_custom\\images\\traffic car_42.jpeg -> Annotation:C:/Users/Hp/Desktop/yolo_custom/labels\\traffic car_42.txt\n",
      "Image:C:\\Users\\Hp\\Desktop\\yolo_custom\\images\\traffic car_43.jpeg -> Annotation:C:/Users/Hp/Desktop/yolo_custom/labels\\traffic car_43.txt\n",
      "Image:C:\\Users\\Hp\\Desktop\\yolo_custom\\images\\traffic car_44.jpeg -> Annotation:C:/Users/Hp/Desktop/yolo_custom/labels\\traffic car_44.txt\n",
      "Image:C:\\Users\\Hp\\Desktop\\yolo_custom\\images\\traffic car_45.jpeg -> Annotation:C:/Users/Hp/Desktop/yolo_custom/labels\\traffic car_45.txt\n",
      "Cancel creation.\n",
      "Image:C:\\Users\\Hp\\Desktop\\yolo_custom\\images\\traffic car_46.jpeg -> Annotation:C:/Users/Hp/Desktop/yolo_custom/labels\\traffic car_46.txt\n",
      "Image:C:\\Users\\Hp\\Desktop\\yolo_custom\\images\\traffic car_47.jpeg -> Annotation:C:/Users/Hp/Desktop/yolo_custom/labels\\traffic car_47.txt\n",
      "Image:C:\\Users\\Hp\\Desktop\\yolo_custom\\images\\traffic car_48.jpeg -> Annotation:C:/Users/Hp/Desktop/yolo_custom/labels\\traffic car_48.txt\n",
      "Image:C:\\Users\\Hp\\Desktop\\yolo_custom\\images\\traffic car_50.jpeg -> Annotation:C:/Users/Hp/Desktop/yolo_custom/labels\\traffic car_50.txt\n"
     ]
    }
   ],
   "source": [
    "# pour lancer le programme d'annotation des images\n",
    "!labelImg"
   ]
  },
  {
   "cell_type": "code",
   "execution_count": null,
   "id": "f95c42b1",
   "metadata": {},
   "outputs": [],
   "source": []
  },
  {
   "cell_type": "code",
   "execution_count": null,
   "id": "814f98bc",
   "metadata": {},
   "outputs": [],
   "source": []
  },
  {
   "cell_type": "code",
   "execution_count": null,
   "id": "4f8ef0b7",
   "metadata": {},
   "outputs": [],
   "source": []
  }
 ],
 "metadata": {
  "kernelspec": {
   "display_name": "Python 3 (ipykernel)",
   "language": "python",
   "name": "python3"
  },
  "language_info": {
   "codemirror_mode": {
    "name": "ipython",
    "version": 3
   },
   "file_extension": ".py",
   "mimetype": "text/x-python",
   "name": "python",
   "nbconvert_exporter": "python",
   "pygments_lexer": "ipython3",
   "version": "3.9.12"
  },
  "varInspector": {
   "cols": {
    "lenName": 16,
    "lenType": 16,
    "lenVar": 40
   },
   "kernels_config": {
    "python": {
     "delete_cmd_postfix": "",
     "delete_cmd_prefix": "del ",
     "library": "var_list.py",
     "varRefreshCmd": "print(var_dic_list())"
    },
    "r": {
     "delete_cmd_postfix": ") ",
     "delete_cmd_prefix": "rm(",
     "library": "var_list.r",
     "varRefreshCmd": "cat(var_dic_list()) "
    }
   },
   "types_to_exclude": [
    "module",
    "function",
    "builtin_function_or_method",
    "instance",
    "_Feature"
   ],
   "window_display": false
  }
 },
 "nbformat": 4,
 "nbformat_minor": 5
}
